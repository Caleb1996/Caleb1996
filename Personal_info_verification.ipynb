{
 "cells": [
  {
   "cell_type": "code",
   "execution_count": 5,
   "id": "05869035-eb2a-4007-8930-b54f48eddac9",
   "metadata": {},
   "outputs": [
    {
     "name": "stdout",
     "output_type": "stream",
     "text": [
      "<class 'list'>\n"
     ]
    }
   ],
   "source": [
    "names = [\"Maina\", \"Grace\", \"Adhiambo\", \"Chris\"]\n",
    "print(type(names))"
   ]
  },
  {
   "cell_type": "code",
   "execution_count": 9,
   "id": "7114fae0-08d0-40a8-851b-6243dd3555b7",
   "metadata": {},
   "outputs": [
    {
     "data": {
      "text/plain": [
       "list"
      ]
     },
     "execution_count": 9,
     "metadata": {},
     "output_type": "execute_result"
    }
   ],
   "source": [
    "type(names)"
   ]
  },
  {
   "cell_type": "code",
   "execution_count": 11,
   "id": "10846dea-0dbe-458c-9368-8892edb1cf56",
   "metadata": {},
   "outputs": [],
   "source": [
    "names.append(\"James\")"
   ]
  },
  {
   "cell_type": "code",
   "execution_count": 17,
   "id": "0c39a1fe-7f0a-4119-9004-80d060665a1c",
   "metadata": {},
   "outputs": [],
   "source": [
    "ages = [24, 43, 25, 28, 30]\n",
    "countries = [\"Kenya\", \"Mozambique\", \"Malawi\", \"Ghana\", \"Tunisia\"]\n",
    "allowed_countries = (\"Kenya\", \"South Africa\", \"Nigeria\")"
   ]
  },
  {
   "cell_type": "code",
   "execution_count": 23,
   "id": "09c8f6fe-1042-4e00-9154-eea456fa633f",
   "metadata": {},
   "outputs": [
    {
     "name": "stdout",
     "output_type": "stream",
     "text": [
      "Maina is from an allowed country\n"
     ]
    }
   ],
   "source": [
    "if countries[0] in allowed_countries:\n",
    "    print(f\"{names[0]} is from an allowed country\")\n",
    "else:\n",
    "    print(f\"{names[0]} is not from an allowed country\")"
   ]
  },
  {
   "cell_type": "code",
   "execution_count": 25,
   "id": "a37ec415-f8af-4d3c-9a72-66f2950a0a08",
   "metadata": {},
   "outputs": [
    {
     "name": "stdout",
     "output_type": "stream",
     "text": [
      "Summary:\n",
      "Total people checked: 5\n",
      "People from allowed countries: 1\n",
      "People not from allowed countries: 4\n"
     ]
    }
   ],
   "source": [
    "# Count people from allowed and not allowed countries\n",
    "num_allowed = 0\n",
    "num_not_allowed = 0\n",
    "for country in countries:\n",
    "  if country in allowed_countries:\n",
    "    num_allowed += 1\n",
    "  else:\n",
    "    num_not_allowed += 1\n",
    "\n",
    "# Print summary message\n",
    "total_people = len(names)\n",
    "print(f\"Summary:\")\n",
    "print(f\"Total people checked: {total_people}\")\n",
    "print(f\"People from allowed countries: {num_allowed}\")\n",
    "print(f\"People not from allowed countries: {num_not_allowed}\")"
   ]
  },
  {
   "cell_type": "code",
   "execution_count": null,
   "id": "74d47d36-1471-46eb-86a7-bbf6aa3bfe85",
   "metadata": {},
   "outputs": [],
   "source": []
  }
 ],
 "metadata": {
  "kernelspec": {
   "display_name": "Python 3 (ipykernel)",
   "language": "python",
   "name": "python3"
  },
  "language_info": {
   "codemirror_mode": {
    "name": "ipython",
    "version": 3
   },
   "file_extension": ".py",
   "mimetype": "text/x-python",
   "name": "python",
   "nbconvert_exporter": "python",
   "pygments_lexer": "ipython3",
   "version": "3.12.4"
  }
 },
 "nbformat": 4,
 "nbformat_minor": 5
}
