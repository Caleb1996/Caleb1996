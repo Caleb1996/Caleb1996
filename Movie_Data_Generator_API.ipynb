{
 "cells": [
  {
   "cell_type": "markdown",
   "id": "5ad25b3e-fea3-4071-a5e5-1c6ececf7291",
   "metadata": {},
   "source": [
    "#### Importing Libraries and Connecting to the OMDB API Using an API Key\n",
    "###### We will use the OMDB API to fetch movie details. You'll need to include your API key in the request. This API allows you to retrieve movie information by title:"
   ]
  },
  {
   "cell_type": "code",
   "execution_count": null,
   "id": "73252e4f-42e2-45fd-a68f-038a89c76dbe",
   "metadata": {},
   "outputs": [],
   "source": [
    "import requests # For handling HTTP requests\n",
    "import json # For working with JSON data"
   ]
  },
  {
   "cell_type": "code",
   "execution_count": 99,
   "id": "65e51314-b6df-4425-bfd1-e1af96a8b1f8",
   "metadata": {},
   "outputs": [
    {
     "name": "stdin",
     "output_type": "stream",
     "text": [
      "Enter the movie title:  Onjula\n"
     ]
    }
   ],
   "source": [
    "# User inputs the movie title\n",
    "movie_title = input(\"Enter the movie title: \")\n",
    "\n",
    "# Constructiong the API URL with the key included\n",
    "api_key = '4bbf40d'\n",
    "url = f'http://www.omdbapi.com/?t={movie_title}&apikey={api_key}&plot=short&r=json'\n",
    "\n",
    "# Sending the request to the API and storing the response\n",
    "response = requests.get(url)"
   ]
  },
  {
   "cell_type": "markdown",
   "id": "9a678544-47e3-4932-9aa5-a83a8f7263b4",
   "metadata": {},
   "source": [
    "#### Implementing Exception Handling\n",
    "##### Add exception handling to manage potential issues such as network errors or an incorrect movie title."
   ]
  },
  {
   "cell_type": "code",
   "execution_count": 101,
   "id": "86a238be-c7e7-421f-a6c0-a50d35898158",
   "metadata": {},
   "outputs": [
    {
     "name": "stdout",
     "output_type": "stream",
     "text": [
      "No data found for the data provided movie title.\n"
     ]
    }
   ],
   "source": [
    "try:\n",
    "    response = requests.get(url)\n",
    "    response.raise_for_status() # Raise an exception for HTTP Errors\n",
    "    movie_data = response.json()\n",
    "\n",
    "    if 'Error' in movie_data:\n",
    "        raise ValueError(\"No data found for the data provided movie title.\")\n",
    "except requests.exceptions.HTTPError as http_err:\n",
    "    print(f\"HTTP error occurred: {http_err}\")\n",
    "except requests.exceptions.ConnectionError as conn_err:\n",
    "    print(f\"Connection error occurred: {conn_err}\")\n",
    "except requests.exceptions.Timeout as timeout_err:\n",
    "    print(f\"Timeout error occurred: {timeout_err}\")\n",
    "except requests.exceptions.RequestException as req_err:\n",
    "    print(f\"An error occurred: {req_err_err}\")    \n",
    "except ValueError as ve:\n",
    "    print(ve)\n",
    "else:\n",
    "    print(\"Movie data retrieved successfully!\")"
   ]
  },
  {
   "cell_type": "markdown",
   "id": "9f8a5ec7-851a-4b48-933f-cdd939256eb7",
   "metadata": {},
   "source": [
    "#### Extracting Movie Information\n",
    "##### Once the data is retrieved successfully, extract key details like the title, year of release, and director from the JSON response:"
   ]
  },
  {
   "cell_type": "code",
   "execution_count": 103,
   "id": "5c36edbc-c66a-4bdc-81c9-564fd3405c9f",
   "metadata": {},
   "outputs": [
    {
     "name": "stdout",
     "output_type": "stream",
     "text": [
      "{'Title': 'N/A', 'Year': 'N/A', 'Director': 'N/A'}\n"
     ]
    }
   ],
   "source": [
    "if 'movie_data' in locals(): # Check if movie_data exists\n",
    "    # Extract the title, year, and director from the movie data\n",
    "    title = movie_data.get('Title', 'N/A')\n",
    "    year = movie_data.get('Year', 'N/A')\n",
    "    director = movie_data.get('Director', 'N/A')\n",
    "\n",
    "    # Store the extraxted information in a dictionary\n",
    "    movie_info = {\n",
    "        'Title': title,\n",
    "        'Year': year,\n",
    "        'Director': director\n",
    "    }\n",
    "\n",
    "    # Display the extracted movie information\n",
    "    print(movie_info)"
   ]
  },
  {
   "cell_type": "markdown",
   "id": "63013f2c-009c-476c-956a-cb63fd255425",
   "metadata": {},
   "source": [
    "#### Storing Data in a File\n",
    "###### This will create a text file named movie_info.txt containing the movie details"
   ]
  },
  {
   "cell_type": "code",
   "execution_count": 105,
   "id": "5e2e9544-0672-4612-baca-2004922447b6",
   "metadata": {},
   "outputs": [],
   "source": [
    "with open('movie_info.txt', 'w') as file:\n",
    "    # Write the movie information to the text file in JSON format\n",
    "    file.write(json.dumps(movie_info, indent=4))"
   ]
  },
  {
   "cell_type": "markdown",
   "id": "6078393d-b3ad-4346-b23b-52d80f00e848",
   "metadata": {},
   "source": [
    "#### Reading and Displaying Stored Data\n",
    "###### Create a function to read the stored data from the file and display it. This function will allow you to access \n",
    "an  review the saved informatio::"
   ]
  },
  {
   "cell_type": "code",
   "execution_count": 107,
   "id": "ff1e4428-18c7-4f39-a561-a45c9e7520db",
   "metadata": {},
   "outputs": [
    {
     "name": "stdout",
     "output_type": "stream",
     "text": [
      "Stored Movie Information:\n",
      "{\n",
      "    \"Title\": \"N/A\",\n",
      "    \"Year\": \"N/A\",\n",
      "    \"Director\": \"N/A\"\n",
      "}\n"
     ]
    }
   ],
   "source": [
    "def display_stored_movie_info():\n",
    "    try:\n",
    "        # Open and read the stored movie information from the file\n",
    "        with open('movie_info.txt', 'r') as file:\n",
    "            stored_data = json.load(file)\n",
    "            print(\"Stored Movie Information:\")\n",
    "            # Print the stored data in a readable JSON format\n",
    "            print(json.dumps(stored_data, indent=4))\n",
    "    except FileNotFoundError:\n",
    "        print(\"The file does not exist.\")\n",
    "    except json.JSONDecodeError:\n",
    "        print(\"Error decoding the JSON data.\")\n",
    "    except Exception as e:\n",
    "        print(f\"An unexpected error occurred: {e}\")\n",
    "\n",
    "# Call the function to display the stored movie information\n",
    "display_stored_movie_info()"
   ]
  },
  {
   "cell_type": "code",
   "execution_count": null,
   "id": "f4d20a75-1966-4622-8325-e61ce9596295",
   "metadata": {},
   "outputs": [],
   "source": []
  }
 ],
 "metadata": {
  "kernelspec": {
   "display_name": "Python 3 (ipykernel)",
   "language": "python",
   "name": "python3"
  },
  "language_info": {
   "codemirror_mode": {
    "name": "ipython",
    "version": 3
   },
   "file_extension": ".py",
   "mimetype": "text/x-python",
   "name": "python",
   "nbconvert_exporter": "python",
   "pygments_lexer": "ipython3",
   "version": "3.12.4"
  }
 },
 "nbformat": 4,
 "nbformat_minor": 5
}
