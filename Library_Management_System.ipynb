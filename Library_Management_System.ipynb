{
 "cells": [
  {
   "cell_type": "markdown",
   "id": "2e1495a7-48fe-4cfa-93d7-ebb805035255",
   "metadata": {},
   "source": [
    "## Library Management System"
   ]
  },
  {
   "cell_type": "markdown",
   "id": "058a842a-1f73-4161-9a01-d3e507e77f27",
   "metadata": {},
   "source": [
    "##### This system will enable users to add books to the library, search for books, borrow books, and return books"
   ]
  },
  {
   "cell_type": "code",
   "execution_count": 1,
   "id": "0cb3551d-2815-4654-8563-66d9dc6c8331",
   "metadata": {},
   "outputs": [],
   "source": [
    "# Impoert the necessary libraries\n",
    "import datetime"
   ]
  },
  {
   "cell_type": "markdown",
   "id": "524c459b-cace-4ec7-b1f4-3c077f7aa41a",
   "metadata": {},
   "source": [
    "##### Create lists and dictionaries to store information about the books, borrowed books, and users."
   ]
  },
  {
   "cell_type": "code",
   "execution_count": 3,
   "id": "8f3d220a-d8b2-4363-92af-810557a195bf",
   "metadata": {},
   "outputs": [],
   "source": [
    "# List of books in the library\n",
    "library_books = []\n",
    "\n",
    "# Dictionary to store borrowed books\n",
    "borrowed_books = {}\n",
    "\n",
    "# List of users\n",
    "users = []\n"
   ]
  },
  {
   "cell_type": "markdown",
   "id": "6bd7c17d-f3c4-481a-845c-4f4785e83e07",
   "metadata": {},
   "source": [
    "##### Define functions for various operations like adding a book, searching for a book, borrowing a book, and returning a book"
   ]
  },
  {
   "cell_type": "markdown",
   "id": "a03b228b-e7c3-4a4a-886e-8c6c033a0aaf",
   "metadata": {},
   "source": [
    "#### Function to Add a Book to the Library"
   ]
  },
  {
   "cell_type": "code",
   "execution_count": 5,
   "id": "a2ea4f47-d35a-4037-a0c0-d851e31988f6",
   "metadata": {},
   "outputs": [],
   "source": [
    "# Function to add a new book to the library\n",
    "def add_book(book_id, title, author):\n",
    "    book = {\n",
    "        \"book_id\": book_id,\n",
    "        \"title\": title,\n",
    "        \"author\": author,\n",
    "        \"available\": True\n",
    "    }\n",
    "    library_books.append(book) # add the book to the library_books list\n",
    "    print(f\"Book '{title}' by {author} added to the library.\")"
   ]
  },
  {
   "cell_type": "markdown",
   "id": "cf018818-6eb3-4b62-a9b5-a0b9617933b1",
   "metadata": {},
   "source": [
    "#### Function to Search for a Book"
   ]
  },
  {
   "cell_type": "code",
   "execution_count": 7,
   "id": "601f83a1-ebf8-411c-9aef-1b5cd43df6d9",
   "metadata": {},
   "outputs": [],
   "source": [
    "def search_book(title):\n",
    "    # Search for books in the Library that match the given title (case-insensitive)\n",
    "    found_books = [\n",
    "        book for book in library_books\n",
    "        if title.lower() in book[\"title\"].lower()\n",
    "    ]\n",
    "\n",
    "    if found_books:\n",
    "        # Iterate through the found books and print their details \n",
    "        for book in found_books:\n",
    "            status = \"Available\" if book[\"available\"] else \"Borrowed\"\n",
    "            print(\n",
    "                f\"ID: {book['book_id']}, Title: {book['title']}\"\n",
    "                f\"Author: {book['author']}, Status: {status}\"\n",
    "            )\n",
    "    else:\n",
    "        print(\"No books found with that title\")"
   ]
  },
  {
   "cell_type": "markdown",
   "id": "78d9e08a-6b93-4401-815a-68408dc7b38f",
   "metadata": {},
   "source": [
    "#### Function to Borrow a Book"
   ]
  },
  {
   "cell_type": "code",
   "execution_count": 9,
   "id": "b445f55a-2de5-40e5-a260-147d79782ee4",
   "metadata": {},
   "outputs": [],
   "source": [
    "def borrow_book(user, book_id):\n",
    "    # Check if the specified book is available and mark it as borrowed\n",
    "    for book in library_books:\n",
    "        if book[\"book_id\"] == book_id and book[\"available\"]:\n",
    "            book[\"available\"] = False # Mark the book as unavailable\n",
    "            borrowed_books[book_id] = {\n",
    "                \"user\": user,\n",
    "                \"borrowed_date\": datetime.date.today() # Record the borrow date\n",
    "            }\n",
    "            print(f\"Book '{book['title']}' borrowed by {user}.\")\n",
    "            return \n",
    "    print(\"Book not available or does not exist.\")"
   ]
  },
  {
   "cell_type": "markdown",
   "id": "78f0380c-2589-45c1-a66a-8346d7f0d2f8",
   "metadata": {},
   "source": [
    "#### Function to Borrow a Book"
   ]
  },
  {
   "cell_type": "code",
   "execution_count": 11,
   "id": "f3ebe2d4-a9cd-492c-a5b3-c19d0e054035",
   "metadata": {},
   "outputs": [],
   "source": [
    "def return_book(book_id):\n",
    "    # Check if the book is in the borrowed_books and mark it as available\n",
    "    if book_id in borrowed_books:\n",
    "        for book in library_books:\n",
    "            if book[\"book_id\"] == book_id:\n",
    "                book[\"available\"] = True # Mark the book as available\n",
    "                borrowed_books.pop(book_id) # Remove the book from borrowed_books\n",
    "                print(f\"Book '{book['title']}' returned.\")\n",
    "                return\n",
    "    print(\"Book not found in the borrowed books.\")\n",
    "    "
   ]
  },
  {
   "cell_type": "markdown",
   "id": "5f35b13c-c785-4bcc-9297-b9190ce5910a",
   "metadata": {},
   "source": [
    "### Implement User Interaction"
   ]
  },
  {
   "cell_type": "code",
   "execution_count": null,
   "id": "9f277df6-a3e4-4746-8c66-db24b69bcdf9",
   "metadata": {},
   "outputs": [],
   "source": [
    "##### "
   ]
  },
  {
   "cell_type": "code",
   "execution_count": 13,
   "id": "4ca550eb-f1a0-439c-88ea-8b867d3fadc4",
   "metadata": {},
   "outputs": [
    {
     "name": "stdout",
     "output_type": "stream",
     "text": [
      "\n",
      "Library Management System\n",
      "1. Add Book\n",
      "2. Search Book\n",
      "3. Borrow Book\n",
      "4. Return Book\n",
      "5. Exit\n"
     ]
    },
    {
     "name": "stdin",
     "output_type": "stream",
     "text": [
      "Enter Your choice:  1\n",
      "Enter book ID:  D43\n",
      "Enter book title:  Glad City\n",
      "Enter book author:  Onjula\n"
     ]
    },
    {
     "name": "stdout",
     "output_type": "stream",
     "text": [
      "Book 'Glad City' by Onjula added to the library.\n",
      "\n",
      "Library Management System\n",
      "1. Add Book\n",
      "2. Search Book\n",
      "3. Borrow Book\n",
      "4. Return Book\n",
      "5. Exit\n"
     ]
    },
    {
     "name": "stdin",
     "output_type": "stream",
     "text": [
      "Enter Your choice:  2\n",
      "Enter book title to search:  Glad City\n"
     ]
    },
    {
     "name": "stdout",
     "output_type": "stream",
     "text": [
      "ID: D43, Title: Glad CityAuthor: Onjula, Status: Available\n",
      "\n",
      "Library Management System\n",
      "1. Add Book\n",
      "2. Search Book\n",
      "3. Borrow Book\n",
      "4. Return Book\n",
      "5. Exit\n"
     ]
    },
    {
     "name": "stdin",
     "output_type": "stream",
     "text": [
      "Enter Your choice:  3\n",
      "Enter your name:  Caleb Onjula\n",
      "Enter book ID to borrow:  D43\n"
     ]
    },
    {
     "name": "stdout",
     "output_type": "stream",
     "text": [
      "Book 'Glad City' borrowed by Caleb Onjula.\n",
      "\n",
      "Library Management System\n",
      "1. Add Book\n",
      "2. Search Book\n",
      "3. Borrow Book\n",
      "4. Return Book\n",
      "5. Exit\n"
     ]
    },
    {
     "name": "stdin",
     "output_type": "stream",
     "text": [
      "Enter Your choice:  4\n",
      "Enter book ID to return:  D43\n"
     ]
    },
    {
     "name": "stdout",
     "output_type": "stream",
     "text": [
      "Book 'Glad City' returned.\n",
      "\n",
      "Library Management System\n",
      "1. Add Book\n",
      "2. Search Book\n",
      "3. Borrow Book\n",
      "4. Return Book\n",
      "5. Exit\n"
     ]
    },
    {
     "name": "stdin",
     "output_type": "stream",
     "text": [
      "Enter Your choice:  5\n"
     ]
    },
    {
     "name": "stdout",
     "output_type": "stream",
     "text": [
      "Exiting the system. Goodbye!\n"
     ]
    }
   ],
   "source": [
    "def main():\n",
    "    # Start an infinite loop  for the library management system\n",
    "    while True:\n",
    "        print(\"\\nLibrary Management System\")\n",
    "        print(\"1. Add Book\")\n",
    "        print(\"2. Search Book\")\n",
    "        print(\"3. Borrow Book\")\n",
    "        print(\"4. Return Book\")\n",
    "        print(\"5. Exit\")\n",
    "        choice = input(\"Enter Your choice: \")\n",
    "\n",
    "        # Handle user choices for library operations\n",
    "        if choice == '1':\n",
    "            book_id = input(\"Enter book ID: \")\n",
    "            title = input(\"Enter book title: \")\n",
    "            author = input(\"Enter book author: \")\n",
    "            add_book(book_id, title, author) # Call function to add a new book\n",
    "        elif choice == '2':\n",
    "            title = input(\"Enter book title to search: \")\n",
    "            search_book(title) # Call function to search for a book\n",
    "        elif choice == '3':\n",
    "            user = input(\"Enter your name: \")\n",
    "            book_id = input(\"Enter book ID to borrow: \")\n",
    "            borrow_book(user, book_id) # call function to borrow a book\n",
    "        elif choice == '4':\n",
    "            book_id = input(\"Enter book ID to return: \")\n",
    "            return_book(book_id) # Call function to return a borrowed book\n",
    "        elif choice == '5':\n",
    "            print(\"Exiting the system. Goodbye!\") # Exit message\n",
    "            break # Exit the loop and end the program\n",
    "        else:\n",
    "            print(\"Invalid choice. Please try again\") # Handles invalid input\n",
    "# Start The Library management system\n",
    "main()"
   ]
  },
  {
   "cell_type": "code",
   "execution_count": null,
   "id": "ffe5a741-d97e-4fdd-84a8-6df250bbb3a8",
   "metadata": {},
   "outputs": [],
   "source": []
  }
 ],
 "metadata": {
  "kernelspec": {
   "display_name": "Python 3 (ipykernel)",
   "language": "python",
   "name": "python3"
  },
  "language_info": {
   "codemirror_mode": {
    "name": "ipython",
    "version": 3
   },
   "file_extension": ".py",
   "mimetype": "text/x-python",
   "name": "python",
   "nbconvert_exporter": "python",
   "pygments_lexer": "ipython3",
   "version": "3.12.4"
  }
 },
 "nbformat": 4,
 "nbformat_minor": 5
}
