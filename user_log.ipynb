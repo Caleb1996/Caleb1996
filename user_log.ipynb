{
 "cells": [
  {
   "cell_type": "markdown",
   "id": "dc1bfdfc-98aa-4569-a5fc-110dc1078719",
   "metadata": {},
   "source": [
    "### User Login Information Program"
   ]
  },
  {
   "cell_type": "code",
   "execution_count": 16,
   "id": "ad1a086f-8ffa-4f37-a986-e05cd077cfe8",
   "metadata": {},
   "outputs": [
    {
     "name": "stdin",
     "output_type": "stream",
     "text": [
      "Enter your Username:  yyy\n",
      "Enter your password:  hhh\n"
     ]
    },
    {
     "name": "stdout",
     "output_type": "stream",
     "text": [
      "User information logged successfully!\n"
     ]
    }
   ],
   "source": [
    "# Import the datetime module from the Python Standard Library\n",
    "import datetime\n",
    "\n",
    "# Ask the user for a username and password \n",
    "username = input(\"Enter your Username: \")\n",
    "password = input(\"Enter your password: \")\n",
    "\n",
    "# Get the current date and time\n",
    "try:\n",
    "    current_datetime = datetime.datetime.now()\n",
    "    formatted_datetime = current_datetime.strftime(\"%Y-%m-%d %H:%M:%S\")\n",
    "except (OSError, ValueError) as e:\n",
    "    print(f\"Error getting date/time: {e}\")\n",
    "    \n",
    "# Open the log file in append mode (\"a\")\n",
    "with open(\"user_log.txt\", \"a\") as log_file:\n",
    "    # Write user information with the date and time in the log file\n",
    "    log_file.write(f\"{formatted_datetime} - Username: {username}, Password: {password}\\n\")\n",
    "# Print a success message\n",
    "print(\"User information logged successfully!\")\n"
   ]
  },
  {
   "cell_type": "code",
   "execution_count": 18,
   "id": "695e9fc6-ea3d-4a36-99f1-3e694def6aad",
   "metadata": {},
   "outputs": [
    {
     "name": "stdout",
     "output_type": "stream",
     "text": [
      "2024-08-15 09:03:57 - Username: Jim , Password: Ogolla\n",
      "2024-08-15 09:08:02 - Username: Maina, Password: Sam\n",
      "2024-08-15 09:08:35 - Username: Grace, Password: Grace\n",
      "2024-08-15 09:08:35 - Username: tt, Password: yyy\n",
      "2024-08-15 10:16:30 - Username: yyy, Password: hhh\n",
      "\n"
     ]
    }
   ],
   "source": [
    "with open(\"user_log.txt\", \"r\") as file:\n",
    "    content = file.read()\n",
    "    print(content)"
   ]
  },
  {
   "cell_type": "code",
   "execution_count": null,
   "id": "52801afe-f898-4af2-85ef-5c77dd56f9d1",
   "metadata": {},
   "outputs": [],
   "source": []
  }
 ],
 "metadata": {
  "kernelspec": {
   "display_name": "Python 3 (ipykernel)",
   "language": "python",
   "name": "python3"
  },
  "language_info": {
   "codemirror_mode": {
    "name": "ipython",
    "version": 3
   },
   "file_extension": ".py",
   "mimetype": "text/x-python",
   "name": "python",
   "nbconvert_exporter": "python",
   "pygments_lexer": "ipython3",
   "version": "3.12.4"
  }
 },
 "nbformat": 4,
 "nbformat_minor": 5
}
