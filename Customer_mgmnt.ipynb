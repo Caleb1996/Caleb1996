{
  "cells": [
    {
      "cell_type": "markdown",
      "metadata": {
        "colab_type": "text",
        "id": "view-in-github"
      },
      "source": [
        "<a href=\"https://colab.research.google.com/github/Caleb1996/Caleb1996/blob/main/Customer_mgmnt.ipynb\" target=\"_parent\"><img src=\"https://colab.research.google.com/assets/colab-badge.svg\" alt=\"Open In Colab\"/></a>"
      ]
    },
    {
      "cell_type": "code",
      "execution_count": null,
      "metadata": {
        "colab": {
          "base_uri": "https://localhost:8080/"
        },
        "id": "ROFo2kjZHmmH",
        "outputId": "9258b58b-d7bb-4f2f-acbd-cbb2a0af8674"
      },
      "outputs": [
        {
          "name": "stdout",
          "output_type": "stream",
          "text": [
            "Requirement already satisfied: pandas in /usr/local/lib/python3.10/dist-packages (2.0.3)\n",
            "Requirement already satisfied: python-dateutil>=2.8.2 in /usr/local/lib/python3.10/dist-packages (from pandas) (2.8.2)\n",
            "Requirement already satisfied: pytz>=2020.1 in /usr/local/lib/python3.10/dist-packages (from pandas) (2023.4)\n",
            "Requirement already satisfied: tzdata>=2022.1 in /usr/local/lib/python3.10/dist-packages (from pandas) (2024.1)\n",
            "Requirement already satisfied: numpy>=1.21.0 in /usr/local/lib/python3.10/dist-packages (from pandas) (1.25.2)\n",
            "Requirement already satisfied: six>=1.5 in /usr/local/lib/python3.10/dist-packages (from python-dateutil>=2.8.2->pandas) (1.16.0)\n"
          ]
        }
      ],
      "source": [
        "pip install pandas"
      ]
    },
    {
      "cell_type": "code",
      "execution_count": null,
      "metadata": {
        "id": "PXn_44uzHrU6"
      },
      "outputs": [],
      "source": [
        "import pandas as pd\n",
        "import csv"
      ]
    },
    {
      "cell_type": "code",
      "execution_count": null,
      "metadata": {
        "colab": {
          "base_uri": "https://localhost:8080/"
        },
        "id": "qShD-WDEH2j-",
        "outputId": "c5208743-9703-442c-ebb1-b12b393da26b"
      },
      "outputs": [
        {
          "name": "stdout",
          "output_type": "stream",
          "text": [
            "Enter the first customer's name: Sam\n",
            "Enter the first customer's rating (1-5): 4\n",
            "Enter the first customer's feedback: It is a good platform\n"
          ]
        }
      ],
      "source": [
        "#Collecting first customer feedback data using input function\n",
        "customer_name1 = input(\"Enter the first customer's name: \")\n",
        "customer_rating1 =int(input(\"Enter the first customer's rating (1-5): \"))\n",
        "customer_feedback1 = input(\"Enter the customer's feedback: \")"
      ]
    },
    {
      "cell_type": "code",
      "execution_count": null,
      "metadata": {
        "colab": {
          "base_uri": "https://localhost:8080/"
        },
        "id": "BLqWP-zeH8SJ",
        "outputId": "9dce748f-6ea9-4e1e-9c6c-aa42c8cb6d42"
      },
      "outputs": [
        {
          "name": "stdout",
          "output_type": "stream",
          "text": [
            "Enter the second customer's name: Fancy\n",
            "Enter the second customer's rating (1-5): 3\n",
            "Enter the second customer's feedback: Great\n"
          ]
        }
      ],
      "source": [
        "#Collecting second customer feedback data using input function\n",
        "customer_name2 = input(\"Enter the second customer's name: \")\n",
        "customer_rating2 =int(input(\"Enter the second customer's rating (1-5): \"))\n",
        "customer_feedback2 = input(\"Enter the second customer's feedback: \")"
      ]
    },
    {
      "cell_type": "code",
      "execution_count": null,
      "metadata": {
        "colab": {
          "base_uri": "https://localhost:8080/"
        },
        "id": "hnnD1VlbIHzA",
        "outputId": "18e7329d-641f-41ea-eea9-b42245b2901d"
      },
      "outputs": [
        {
          "name": "stdout",
          "output_type": "stream",
          "text": [
            "Enter the third customer's name: Evance\n",
            "Enter the third customer's rating (1-5): 2\n",
            "Enter the third customer's feedback: Lovely and enjoyable\n"
          ]
        }
      ],
      "source": [
        "#Collecting third customer feedback data using input function\n",
        "customer_name3 = input(\"Enter the third customer's name: \")\n",
        "customer_rating3 =int(input(\"Enter the third customer's rating (1-5): \"))\n",
        "customer_feedback3 = input(\"Enter the third customer's feedback: \")"
      ]
    },
    {
      "cell_type": "code",
      "execution_count": null,
      "metadata": {
        "colab": {
          "base_uri": "https://localhost:8080/"
        },
        "id": "bNHwCnRAIRCL",
        "outputId": "6aeb2ebd-a116-49b1-fe4d-77bb6d6653eb"
      },
      "outputs": [
        {
          "name": "stdout",
          "output_type": "stream",
          "text": [
            "Enter the forth customer's name: Edward\n",
            "Enter the forth customer's rating (1-5): 4\n",
            "Enter the forth customer's feedback: Nicely done\n"
          ]
        }
      ],
      "source": [
        "#Collecting fourth customer feedback data using input function\n",
        "customer_name4 = input(\"Enter the forth customer's name: \")\n",
        "customer_rating4 =int(input(\"Enter the forth customer's rating (1-5): \"))\n",
        "customer_feedback4 = input(\"Enter the forth customer's feedback: \")"
      ]
    },
    {
      "cell_type": "code",
      "execution_count": null,
      "metadata": {
        "colab": {
          "base_uri": "https://localhost:8080/"
        },
        "id": "P3qDxESGIec2",
        "outputId": "305dbf16-92fc-4a8e-e6aa-5d10b1df7787"
      },
      "outputs": [
        {
          "name": "stdout",
          "output_type": "stream",
          "text": [
            "Enter the fifth customer's name: Steve\n",
            "Enter the fifth customer's rating (1-5): 5\n",
            "Enter the fifth customer's feedback: Exactly what i want\n"
          ]
        }
      ],
      "source": [
        "#Collecting fifth customer feedback data using input function\n",
        "customer_name5 = input(\"Enter the fifth customer's name: \")\n",
        "customer_rating5 =int(input(\"Enter the fifth customer's rating (1-5): \"))\n",
        "customer_feedback5 = input(\"Enter the fifth customer's feedback: \")"
      ]
    },
    {
      "cell_type": "code",
      "execution_count": null,
      "metadata": {
        "id": "_ldB1aRQInDa"
      },
      "outputs": [],
      "source": [
        "#Saving the data to a CSV file\n",
        "with open('customer_feedback.csv', 'w', newline='') as file:\n",
        "    writer = csv.writer(file)\n",
        "    writer.writerow([\"Name\", \"Rating\", \"Feedback\"])\n",
        "    writer.writerow([customer_name1, customer_rating1, customer_feedback1])\n",
        "    writer.writerow([customer_name2, customer_rating2, customer_feedback2])\n",
        "    writer.writerow([customer_name3, customer_rating3, customer_feedback3])\n",
        "    writer.writerow([customer_name4, customer_rating4, customer_feedback4])\n",
        "    writer.writerow([customer_name5, customer_rating5, customer_feedback5])"
      ]
    },
    {
      "cell_type": "code",
      "execution_count": null,
      "metadata": {
        "id": "4DtdFgqDI06C"
      },
      "outputs": [],
      "source": [
        "#Reading the data from the csv file\n",
        "df = pd.read_csv('customer_feedback.csv')"
      ]
    },
    {
      "cell_type": "code",
      "execution_count": null,
      "metadata": {
        "colab": {
          "base_uri": "https://localhost:8080/"
        },
        "id": "pg09wbSUI77A",
        "outputId": "a22158c0-babe-4df6-d91d-caa1ad5599af"
      },
      "outputs": [
        {
          "name": "stdout",
          "output_type": "stream",
          "text": [
            "     Name  Rating               Feedback\n",
            "0     Sam       4  It is a good platform\n",
            "1   Fancy       3                  Great\n",
            "2  Evance       2   Lovely and enjoyable\n",
            "3  Edward       4            Nicely done\n",
            "4   Steve       5    Exactly what i want\n"
          ]
        }
      ],
      "source": [
        "#Displaying the collected feedback\n",
        "print(df)"
      ]
    },
    {
      "cell_type": "code",
      "execution_count": null,
      "metadata": {
        "colab": {
          "base_uri": "https://localhost:8080/"
        },
        "id": "DUbbSFKBJBTT",
        "outputId": "e4ee2c36-8f4c-452c-cd5d-c6d6d10b584c"
      },
      "outputs": [
        {
          "name": "stdout",
          "output_type": "stream",
          "text": [
            "     Name  Rating               Feedback\n",
            "0     Sam       4  It is a good platform\n",
            "1   Fancy       3                  Great\n",
            "2  Evance       2   Lovely and enjoyable\n",
            "3  Edward       4            Nicely done\n",
            "4   Steve       5    Exactly what i want\n"
          ]
        }
      ],
      "source": [
        "#Display the first few rows of the data set\n",
        "print(df.head())"
      ]
    },
    {
      "cell_type": "code",
      "execution_count": null,
      "metadata": {
        "colab": {
          "base_uri": "https://localhost:8080/"
        },
        "id": "1IelILMtJHNr",
        "outputId": "a9ba7fff-7c11-4f26-e0fb-b54f63cad8f7"
      },
      "outputs": [
        {
          "name": "stdout",
          "output_type": "stream",
          "text": [
            "<class 'pandas.core.frame.DataFrame'>\n",
            "RangeIndex: 5 entries, 0 to 4\n",
            "Data columns (total 3 columns):\n",
            " #   Column    Non-Null Count  Dtype \n",
            "---  ------    --------------  ----- \n",
            " 0   Name      5 non-null      object\n",
            " 1   Rating    5 non-null      int64 \n",
            " 2   Feedback  5 non-null      object\n",
            "dtypes: int64(1), object(2)\n",
            "memory usage: 248.0+ bytes\n",
            "None\n"
          ]
        }
      ],
      "source": [
        "#Display the info of the dataset\n",
        "print(df.info())"
      ]
    },
    {
      "cell_type": "code",
      "execution_count": null,
      "metadata": {
        "colab": {
          "base_uri": "https://localhost:8080/"
        },
        "id": "ZSgXXSfiJNBh",
        "outputId": "8dbfdb09-496f-4a2c-9ddc-bd75a0b5be33"
      },
      "outputs": [
        {
          "name": "stdout",
          "output_type": "stream",
          "text": [
            "Average Rating: 3.6\n"
          ]
        }
      ],
      "source": [
        "# Calculating the total and average ratings\n",
        "total_ratings = df['Rating'].sum()\n",
        "average_rating = total_ratings /len(df)\n",
        "print(\"Average Rating:\", average_rating)"
      ]
    },
    {
      "cell_type": "code",
      "execution_count": null,
      "metadata": {
        "id": "McWsTJCTJX4p"
      },
      "outputs": [],
      "source": [
        "#Categorizing feedback for the first Customer\n",
        "if customer_rating1 >= 4 and \"excellent\" in customer_feedback1.lower():\n",
        "    feedback_category1 = \"Very positive\"\n",
        "elif customer_rating1 >= 4:\n",
        "    feedback_category1 = \"Positive\"\n",
        "elif customer_rating1 == 3:\n",
        "    feedback_category1 = \"Neutral\"\n",
        "else:\n",
        "    feedback_category1 = \"Negative\""
      ]
    },
    {
      "cell_type": "code",
      "execution_count": null,
      "metadata": {
        "id": "MdQ1XWH6Jgbb"
      },
      "outputs": [],
      "source": [
        "#Categorizing feedback for the second Customer\n",
        "if customer_rating2 >= 4 and \"excellent\" in customer_feedback2.lower():\n",
        "    feedback_category2 = \"Very positive\"\n",
        "elif customer_rating2 >= 4:\n",
        "    feedback_category2 = \"Positive\"\n",
        "elif customer_rating2 == 3:\n",
        "    feedback_category2 = \"Neutral\"\n",
        "else:\n",
        "    feedback_category2 = \"Negative\""
      ]
    },
    {
      "cell_type": "code",
      "execution_count": null,
      "metadata": {
        "id": "V0YL7k5zJkMy"
      },
      "outputs": [],
      "source": [
        "#Categorizing feedback for the third Customer\n",
        "if customer_rating3 >= 4 and \"excellent\" in customer_feedback3.lower():\n",
        "    feedback_category3 = \"Very positive\"\n",
        "elif customer_rating3 >= 4:\n",
        "    feedback_category3 = \"Positive\"\n",
        "elif customer_rating3 == 3:\n",
        "    feedback_category3 = \"Neutral\"\n",
        "else:\n",
        "    feedback_category3 = \"Negative\""
      ]
    },
    {
      "cell_type": "code",
      "execution_count": null,
      "metadata": {
        "id": "EbqGvMZNJoAt"
      },
      "outputs": [],
      "source": [
        "#Categorizing feedback for the forth Customer\n",
        "if customer_rating4 >= 4 and \"excellent\" in customer_feedback4.lower():\n",
        "    feedback_category4 = \"Very positive\"\n",
        "elif customer_rating4 >= 4:\n",
        "    feedback_category4 = \"Positive\"\n",
        "elif customer_rating4 == 3:\n",
        "    feedback_category4 = \"Neutral\"\n",
        "else:\n",
        "    feedback_category4 = \"Negative\"\n"
      ]
    },
    {
      "cell_type": "code",
      "execution_count": null,
      "metadata": {
        "id": "lQVZgXWeJtQt"
      },
      "outputs": [],
      "source": [
        "#Categorizing feedback for the fifth Customer\n",
        "if customer_rating5 >= 4 and \"excellent\" in customer_feedback5.lower():\n",
        "    feedback_category5 = \"Very positive\"\n",
        "elif customer_rating5 >= 4:\n",
        "    feedback_category5 = \"Positive\"\n",
        "elif customer_rating5 == 3:\n",
        "    feedback_category5 = \"Neutral\"\n",
        "else:\n",
        "    feedback_category5 = \"Negative\""
      ]
    },
    {
      "cell_type": "code",
      "execution_count": null,
      "metadata": {
        "colab": {
          "base_uri": "https://localhost:8080/"
        },
        "id": "dNi9Has6JwhJ",
        "outputId": "65095496-aa7d-47d9-c5b3-fbc6f310cb83"
      },
      "outputs": [
        {
          "name": "stdout",
          "output_type": "stream",
          "text": [
            "Feedback Categories: ['Negative', 'Neutral', 'Negative', 'Positive', 'Positive']\n"
          ]
        }
      ],
      "source": [
        "feedback_categories = [feedback_category1, feedback_category2, feedback_category3,feedback_category4, feedback_category5]\n",
        "print(\"Feedback Categories:\", feedback_categories)"
      ]
    },
    {
      "cell_type": "code",
      "execution_count": null,
      "metadata": {
        "id": "MTgqCa6KJ1ND"
      },
      "outputs": [],
      "source": [
        "#Analysing feedback comments\n",
        "feedback_words1 = customer_feedback1.lower().split()\n",
        "feedback_words2 = customer_feedback2.lower().split()\n",
        "feedback_words3 = customer_feedback3.lower().split()\n",
        "feedback_words4 = customer_feedback4.lower().split()\n",
        "feedback_words5 = customer_feedback5.lower().split()"
      ]
    },
    {
      "cell_type": "code",
      "execution_count": null,
      "metadata": {
        "id": "jIBgKy-lLq3-"
      },
      "outputs": [],
      "source": [
        "#Counting occurence of a specific word\n",
        "word_to_count = \"service\"\n",
        "word_count1 = feedback_words1.count(word_to_count)\n",
        "word_count2 = feedback_words2.count(word_to_count)\n",
        "word_count3 = feedback_words3.count(word_to_count)\n",
        "word_count4 = feedback_words4.count(word_to_count)\n",
        "word_count5 = feedback_words5.count(word_to_count)"
      ]
    },
    {
      "cell_type": "code",
      "execution_count": null,
      "metadata": {
        "colab": {
          "base_uri": "https://localhost:8080/"
        },
        "id": "9ibZIqNQLy-0",
        "outputId": "1c32c0a6-746f-4fdb-e170-589d8fcffc7a"
      },
      "outputs": [
        {
          "name": "stdout",
          "output_type": "stream",
          "text": [
            "Count of 'service' in first feedback:  0\n",
            "Count of 'service' in first feedback:  0\n",
            "Count of 'service' in first feedback:  0\n",
            "Count of 'service' in first feedback:  0\n",
            "Count of 'service' in first feedback:  0\n"
          ]
        }
      ],
      "source": [
        "print(f\"Count of '{word_to_count}' in first feedback: \", word_count1)\n",
        "print(f\"Count of '{word_to_count}' in first feedback: \", word_count2)\n",
        "print(f\"Count of '{word_to_count}' in first feedback: \", word_count3)\n",
        "print(f\"Count of '{word_to_count}' in first feedback: \", word_count4)\n",
        "print(f\"Count of '{word_to_count}' in first feedback: \", word_count5)"
      ]
    },
    {
      "cell_type": "code",
      "execution_count": null,
      "metadata": {
        "id": "TUPKH8DOL4zL"
      },
      "outputs": [],
      "source": []
    }
  ],
  "metadata": {
    "colab": {
      "authorship_tag": "ABX9TyPKtx9jF/FGqsfF7Hw8TgCF",
      "include_colab_link": true,
      "provenance": []
    },
    "kernelspec": {
      "display_name": "Python 3",
      "name": "python3"
    },
    "language_info": {
      "name": "python"
    }
  },
  "nbformat": 4,
  "nbformat_minor": 0
}
